{
  "cells": [
    {
      "cell_type": "markdown",
      "source": [
        "**BUDGET SALES ANALYSIS - BUSINESS INTELLIGENCE PROJECT - INEURON**"
      ],
      "metadata": {
        "id": "MSZF7x9VkRcC"
      }
    },
    {
      "cell_type": "code",
      "execution_count": null,
      "metadata": {
        "id": "yUI4endbzX0n"
      },
      "outputs": [],
      "source": [
        "#Importing all the required library\n",
        "\n",
        "import pandas as pd\n",
        "import seaborn as sns\n",
        "import numpy as np\n",
        "import matplotlib.pyplot as plt\n",
        "%matplotlib inline\n",
        "pd.pandas.set_option(\"display.max_columns\",None)\n",
        "sns.set_style(\"darkgrid\")"
      ]
    },
    {
      "cell_type": "code",
      "execution_count": null,
      "metadata": {
        "id": "FEZ1rmGN2e-N"
      },
      "outputs": [],
      "source": [
        "# Uploading file from Mydrive\n",
        "\n",
        "Sales = pd.read_excel(r\"/content/drive/MyDrive/AdventureWorks_Database.xlsx\",sheet_name= \"Sales_data\")\n",
        "Dates = pd.read_excel(r\"/content/drive/MyDrive/AdventureWorks_Database.xlsx\",sheet_name= \"Dates\")\n",
        "Customers = pd.read_excel(r\"/content/drive/MyDrive/AdventureWorks_Database.xlsx\",sheet_name= \"Customer_info\")\n",
        "Products = pd.read_excel(r\"/content/drive/MyDrive/AdventureWorks_Database.xlsx\",sheet_name= \"Product_info\")\n",
        "Country = pd.read_excel(r\"/content/drive/MyDrive/AdventureWorks_Database.xlsx\",sheet_name= \"Country_info\")\n",
        "Budget = pd.read_excel(r\"/content/drive/MyDrive/Budget.xlsx\")"
      ]
    },
    {
      "cell_type": "code",
      "execution_count": null,
      "metadata": {
        "id": "llKA_ckd2hyI"
      },
      "outputs": [],
      "source": [
        "# Extract necessay columns from each data set and convert it into single dataframe(df)\n",
        "\n",
        "Dates.rename(columns={'Date': 'OrderDate'},inplace=True)\n",
        "df3 = pd.merge(Sales,Dates[[\"OrderDate\",\"Year\",\"Quarter\",\"Month\",\"FiscalYear\",\"FiscalQuarter\",\"Weekday\",\"WeekdayWeekend\"]],on = \"OrderDate\" , how = \"left\")\n",
        "df2 = pd.merge(df3,Customers[[\"CustomerKey\",\"MaritalStatus\",'Gender',\"YearlyIncome\",\"Education\",\"Occupation\",\"HouseOwnerFlag\"]],on = \"CustomerKey\" , how = \"left\")\n",
        "df1 = pd.merge(df2,Products[[\"ProductKey\",\"ProductName\",'SubCategory']],on = \"ProductKey\" , how = \"left\")\n",
        "df = pd.merge(df1,Country[[\"SalesTerritoryKey\",\"Region\",\"Country\",\"Group\"]],on = \"SalesTerritoryKey\" , how = \"left\")"
      ]
    },
    {
      "cell_type": "code",
      "execution_count": null,
      "metadata": {
        "id": "v69sHmaS2h41",
        "colab": {
          "base_uri": "https://localhost:8080/"
        },
        "outputId": "8c3eb914-d348-46da-bbbb-de0ca8614bb6"
      },
      "outputs": [
        {
          "output_type": "execute_result",
          "data": {
            "text/plain": [
              "Index(['ProductKey', 'OrderDate', 'ShipDate', 'CustomerKey', 'PromotionKey',\n",
              "       'SalesTerritoryKey', 'SalesOrderNumber', 'SalesOrderLineNumber',\n",
              "       'OrderQuantity', 'UnitPrice', 'TotalProductCost', 'SalesAmount',\n",
              "       'TaxAmt', 'Year', 'Quarter', 'Month', 'FiscalYear', 'FiscalQuarter',\n",
              "       'Weekday', 'WeekdayWeekend', 'MaritalStatus', 'Gender', 'YearlyIncome',\n",
              "       'Education', 'Occupation', 'HouseOwnerFlag', 'ProductName',\n",
              "       'SubCategory', 'Region', 'Country', 'Group'],\n",
              "      dtype='object')"
            ]
          },
          "metadata": {},
          "execution_count": 4
        }
      ],
      "source": [
        "# df Column names\n",
        "\n",
        "df.columns"
      ]
    },
    {
      "cell_type": "code",
      "source": [
        "# Count of Rows and Columns\n",
        "\n",
        "df.shape"
      ],
      "metadata": {
        "colab": {
          "base_uri": "https://localhost:8080/"
        },
        "id": "qE9HJCDRXzoW",
        "outputId": "21dc469c-cef7-4e48-dfad-b5ae97e208f1"
      },
      "execution_count": null,
      "outputs": [
        {
          "output_type": "execute_result",
          "data": {
            "text/plain": [
              "(58189, 31)"
            ]
          },
          "metadata": {},
          "execution_count": 5
        }
      ]
    },
    {
      "cell_type": "code",
      "source": [
        "# Glimps of dataframe df\n",
        "\n",
        "df.head(2)"
      ],
      "metadata": {
        "colab": {
          "base_uri": "https://localhost:8080/",
          "height": 211
        },
        "id": "E4JUaz72YgQc",
        "outputId": "03511189-d04c-418e-a424-cc7b8c8c5722"
      },
      "execution_count": null,
      "outputs": [
        {
          "output_type": "execute_result",
          "data": {
            "text/plain": [
              "   ProductKey  OrderDate   ShipDate  CustomerKey  PromotionKey  \\\n",
              "0         310 2014-01-01 2014-01-08        21768             1   \n",
              "1         346 2014-01-01 2014-01-08        28389             1   \n",
              "\n",
              "   SalesTerritoryKey SalesOrderNumber  SalesOrderLineNumber  OrderQuantity  \\\n",
              "0                  6          SO43697                     1              2   \n",
              "1                  7          SO43698                     1              2   \n",
              "\n",
              "   UnitPrice  TotalProductCost  SalesAmount    TaxAmt  Year Quarter Month  \\\n",
              "0   1789.135         2171.2942      3578.27  286.2616  2014      Q1   Jan   \n",
              "1   1699.995         1912.1544      3399.99  271.9992  2014      Q1   Jan   \n",
              "\n",
              "  FiscalYear FiscalQuarter Weekday WeekdayWeekend MaritalStatus Gender  \\\n",
              "0     FY2014           FQ3     Wed        Weekday             S      M   \n",
              "1     FY2014           FQ3     Wed        Weekday             S      F   \n",
              "\n",
              "   YearlyIncome    Education  Occupation  HouseOwnerFlag  \\\n",
              "0         70000    Bachelors  Management               1   \n",
              "1         20000  High School      Manual               0   \n",
              "\n",
              "               ProductName     SubCategory  Region Country          Group  \n",
              "0         Road-150 Red, 62      Road Bikes  Canada  Canada  North America  \n",
              "1  Mountain-100 Silver, 44  Mountain Bikes  France  France         Europe  "
            ],
            "text/html": [
              "\n",
              "  <div id=\"df-54624616-afd7-4359-962e-b6028f83e5b1\">\n",
              "    <div class=\"colab-df-container\">\n",
              "      <div>\n",
              "<style scoped>\n",
              "    .dataframe tbody tr th:only-of-type {\n",
              "        vertical-align: middle;\n",
              "    }\n",
              "\n",
              "    .dataframe tbody tr th {\n",
              "        vertical-align: top;\n",
              "    }\n",
              "\n",
              "    .dataframe thead th {\n",
              "        text-align: right;\n",
              "    }\n",
              "</style>\n",
              "<table border=\"1\" class=\"dataframe\">\n",
              "  <thead>\n",
              "    <tr style=\"text-align: right;\">\n",
              "      <th></th>\n",
              "      <th>ProductKey</th>\n",
              "      <th>OrderDate</th>\n",
              "      <th>ShipDate</th>\n",
              "      <th>CustomerKey</th>\n",
              "      <th>PromotionKey</th>\n",
              "      <th>SalesTerritoryKey</th>\n",
              "      <th>SalesOrderNumber</th>\n",
              "      <th>SalesOrderLineNumber</th>\n",
              "      <th>OrderQuantity</th>\n",
              "      <th>UnitPrice</th>\n",
              "      <th>TotalProductCost</th>\n",
              "      <th>SalesAmount</th>\n",
              "      <th>TaxAmt</th>\n",
              "      <th>Year</th>\n",
              "      <th>Quarter</th>\n",
              "      <th>Month</th>\n",
              "      <th>FiscalYear</th>\n",
              "      <th>FiscalQuarter</th>\n",
              "      <th>Weekday</th>\n",
              "      <th>WeekdayWeekend</th>\n",
              "      <th>MaritalStatus</th>\n",
              "      <th>Gender</th>\n",
              "      <th>YearlyIncome</th>\n",
              "      <th>Education</th>\n",
              "      <th>Occupation</th>\n",
              "      <th>HouseOwnerFlag</th>\n",
              "      <th>ProductName</th>\n",
              "      <th>SubCategory</th>\n",
              "      <th>Region</th>\n",
              "      <th>Country</th>\n",
              "      <th>Group</th>\n",
              "    </tr>\n",
              "  </thead>\n",
              "  <tbody>\n",
              "    <tr>\n",
              "      <th>0</th>\n",
              "      <td>310</td>\n",
              "      <td>2014-01-01</td>\n",
              "      <td>2014-01-08</td>\n",
              "      <td>21768</td>\n",
              "      <td>1</td>\n",
              "      <td>6</td>\n",
              "      <td>SO43697</td>\n",
              "      <td>1</td>\n",
              "      <td>2</td>\n",
              "      <td>1789.135</td>\n",
              "      <td>2171.2942</td>\n",
              "      <td>3578.27</td>\n",
              "      <td>286.2616</td>\n",
              "      <td>2014</td>\n",
              "      <td>Q1</td>\n",
              "      <td>Jan</td>\n",
              "      <td>FY2014</td>\n",
              "      <td>FQ3</td>\n",
              "      <td>Wed</td>\n",
              "      <td>Weekday</td>\n",
              "      <td>S</td>\n",
              "      <td>M</td>\n",
              "      <td>70000</td>\n",
              "      <td>Bachelors</td>\n",
              "      <td>Management</td>\n",
              "      <td>1</td>\n",
              "      <td>Road-150 Red, 62</td>\n",
              "      <td>Road Bikes</td>\n",
              "      <td>Canada</td>\n",
              "      <td>Canada</td>\n",
              "      <td>North America</td>\n",
              "    </tr>\n",
              "    <tr>\n",
              "      <th>1</th>\n",
              "      <td>346</td>\n",
              "      <td>2014-01-01</td>\n",
              "      <td>2014-01-08</td>\n",
              "      <td>28389</td>\n",
              "      <td>1</td>\n",
              "      <td>7</td>\n",
              "      <td>SO43698</td>\n",
              "      <td>1</td>\n",
              "      <td>2</td>\n",
              "      <td>1699.995</td>\n",
              "      <td>1912.1544</td>\n",
              "      <td>3399.99</td>\n",
              "      <td>271.9992</td>\n",
              "      <td>2014</td>\n",
              "      <td>Q1</td>\n",
              "      <td>Jan</td>\n",
              "      <td>FY2014</td>\n",
              "      <td>FQ3</td>\n",
              "      <td>Wed</td>\n",
              "      <td>Weekday</td>\n",
              "      <td>S</td>\n",
              "      <td>F</td>\n",
              "      <td>20000</td>\n",
              "      <td>High School</td>\n",
              "      <td>Manual</td>\n",
              "      <td>0</td>\n",
              "      <td>Mountain-100 Silver, 44</td>\n",
              "      <td>Mountain Bikes</td>\n",
              "      <td>France</td>\n",
              "      <td>France</td>\n",
              "      <td>Europe</td>\n",
              "    </tr>\n",
              "  </tbody>\n",
              "</table>\n",
              "</div>\n",
              "      <button class=\"colab-df-convert\" onclick=\"convertToInteractive('df-54624616-afd7-4359-962e-b6028f83e5b1')\"\n",
              "              title=\"Convert this dataframe to an interactive table.\"\n",
              "              style=\"display:none;\">\n",
              "        \n",
              "  <svg xmlns=\"http://www.w3.org/2000/svg\" height=\"24px\"viewBox=\"0 0 24 24\"\n",
              "       width=\"24px\">\n",
              "    <path d=\"M0 0h24v24H0V0z\" fill=\"none\"/>\n",
              "    <path d=\"M18.56 5.44l.94 2.06.94-2.06 2.06-.94-2.06-.94-.94-2.06-.94 2.06-2.06.94zm-11 1L8.5 8.5l.94-2.06 2.06-.94-2.06-.94L8.5 2.5l-.94 2.06-2.06.94zm10 10l.94 2.06.94-2.06 2.06-.94-2.06-.94-.94-2.06-.94 2.06-2.06.94z\"/><path d=\"M17.41 7.96l-1.37-1.37c-.4-.4-.92-.59-1.43-.59-.52 0-1.04.2-1.43.59L10.3 9.45l-7.72 7.72c-.78.78-.78 2.05 0 2.83L4 21.41c.39.39.9.59 1.41.59.51 0 1.02-.2 1.41-.59l7.78-7.78 2.81-2.81c.8-.78.8-2.07 0-2.86zM5.41 20L4 18.59l7.72-7.72 1.47 1.35L5.41 20z\"/>\n",
              "  </svg>\n",
              "      </button>\n",
              "      \n",
              "  <style>\n",
              "    .colab-df-container {\n",
              "      display:flex;\n",
              "      flex-wrap:wrap;\n",
              "      gap: 12px;\n",
              "    }\n",
              "\n",
              "    .colab-df-convert {\n",
              "      background-color: #E8F0FE;\n",
              "      border: none;\n",
              "      border-radius: 50%;\n",
              "      cursor: pointer;\n",
              "      display: none;\n",
              "      fill: #1967D2;\n",
              "      height: 32px;\n",
              "      padding: 0 0 0 0;\n",
              "      width: 32px;\n",
              "    }\n",
              "\n",
              "    .colab-df-convert:hover {\n",
              "      background-color: #E2EBFA;\n",
              "      box-shadow: 0px 1px 2px rgba(60, 64, 67, 0.3), 0px 1px 3px 1px rgba(60, 64, 67, 0.15);\n",
              "      fill: #174EA6;\n",
              "    }\n",
              "\n",
              "    [theme=dark] .colab-df-convert {\n",
              "      background-color: #3B4455;\n",
              "      fill: #D2E3FC;\n",
              "    }\n",
              "\n",
              "    [theme=dark] .colab-df-convert:hover {\n",
              "      background-color: #434B5C;\n",
              "      box-shadow: 0px 1px 3px 1px rgba(0, 0, 0, 0.15);\n",
              "      filter: drop-shadow(0px 1px 2px rgba(0, 0, 0, 0.3));\n",
              "      fill: #FFFFFF;\n",
              "    }\n",
              "  </style>\n",
              "\n",
              "      <script>\n",
              "        const buttonEl =\n",
              "          document.querySelector('#df-54624616-afd7-4359-962e-b6028f83e5b1 button.colab-df-convert');\n",
              "        buttonEl.style.display =\n",
              "          google.colab.kernel.accessAllowed ? 'block' : 'none';\n",
              "\n",
              "        async function convertToInteractive(key) {\n",
              "          const element = document.querySelector('#df-54624616-afd7-4359-962e-b6028f83e5b1');\n",
              "          const dataTable =\n",
              "            await google.colab.kernel.invokeFunction('convertToInteractive',\n",
              "                                                     [key], {});\n",
              "          if (!dataTable) return;\n",
              "\n",
              "          const docLinkHtml = 'Like what you see? Visit the ' +\n",
              "            '<a target=\"_blank\" href=https://colab.research.google.com/notebooks/data_table.ipynb>data table notebook</a>'\n",
              "            + ' to learn more about interactive tables.';\n",
              "          element.innerHTML = '';\n",
              "          dataTable['output_type'] = 'display_data';\n",
              "          await google.colab.output.renderOutput(dataTable, element);\n",
              "          const docLink = document.createElement('div');\n",
              "          docLink.innerHTML = docLinkHtml;\n",
              "          element.appendChild(docLink);\n",
              "        }\n",
              "      </script>\n",
              "    </div>\n",
              "  </div>\n",
              "  "
            ]
          },
          "metadata": {},
          "execution_count": 6
        }
      ]
    },
    {
      "cell_type": "markdown",
      "source": [
        "**There are 30 features in Dataset**\n",
        "\n",
        "1 - **Product Key:** Unique identification number of each product\n",
        "\n",
        "2 - **OrderDate:** Date on which order was placed by the customer\n",
        "\n",
        "3 - **ShipDate:** Date on which order was Shipped by the Retailer or Supplier\n",
        "\n",
        "4 - **Customer key:** Unique identification number of each customer\n",
        "\n",
        "5 - **Promotion Key:** \n",
        "\n",
        "6 - **Sales Territory Key:** Unique identification number given to each Territory\n",
        "\n",
        "7 - **Sales Order Number:** unique identification number attached to every order\n",
        "\n",
        "8 - **Sales Order Line number:** \n",
        "\n",
        "9 - **OrderQuantity:** Quantity ordered of specific product\n",
        "\n",
        "10 - **UnitPrice**: Sales price of each product\n",
        "\n",
        "11 - **Total Product Cost:** Cost required to manufacture the product \n",
        "\n",
        "12 - **Sales Amount:** Revenue generated by the sale of a specific product \n",
        "\n",
        "13 - **Tax amount:** Tax Money on sales purchase amount\n",
        "\n",
        "14 - **Year:** Year in which the order was placed (Y - 2014,15,16)\n",
        "\n",
        "15 - **Quarter:** Quarter of the year in which the order was placed(Q -1,2,3,4)\n",
        "\n",
        "16 - **Month:** Month of the year in which the order was placed\n",
        "\n",
        "17 - **Fiscal Year:** Fiscal Year in which the order was placed\n",
        "\n",
        "18 - **Fiscal Quarter:** Fiscal Quarter in wich the order was placed\n",
        "\n",
        "19 - **Weekday:** Week day on which the order was placed\n",
        "\n",
        "20 - **Week day weekend:** (Sunday / Saturday )\n",
        "\n",
        "21 - **Marital Status:** Married(M) or Single(S)\n",
        "\n",
        "22 - **Yearly Income:** Yearly income of the customer\n",
        " \n",
        "23 - **Occupation:** Main Occupation of the customer\n",
        "\n",
        "24 - **Product Name:** Name of the product\n",
        "\n",
        "25 - **Subcategory:** Category under which the products falls\n",
        "\n",
        "26 - **Region:** Region from where the order was placed\n",
        "\n",
        "27 - **Country:** Country from where the order was placed\n",
        "\n",
        "28 - **Group:** Continent specific orders\n",
        "\n",
        "29 - **Education** Highest Qualification of the customer who ordered the Product\n",
        "\n",
        "30 - **HouseOwnerFlag** It signifies that the person who has placed the order is home owner or any other family member (1- Home owner , 2 - Family member other than home owner)"
      ],
      "metadata": {
        "id": "0YbOH8cEkDrZ"
      }
    },
    {
      "cell_type": "code",
      "source": [
        "# Data Type\n",
        "\n",
        "df.dtypes"
      ],
      "metadata": {
        "colab": {
          "base_uri": "https://localhost:8080/"
        },
        "id": "Ys2fRs8Dudq1",
        "outputId": "dbab0be6-5d32-41c5-9e19-8792b60d3e3e"
      },
      "execution_count": null,
      "outputs": [
        {
          "output_type": "execute_result",
          "data": {
            "text/plain": [
              "ProductKey                       int64\n",
              "OrderDate               datetime64[ns]\n",
              "ShipDate                datetime64[ns]\n",
              "CustomerKey                      int64\n",
              "PromotionKey                     int64\n",
              "SalesTerritoryKey                int64\n",
              "SalesOrderNumber                object\n",
              "SalesOrderLineNumber             int64\n",
              "OrderQuantity                    int64\n",
              "UnitPrice                      float64\n",
              "TotalProductCost               float64\n",
              "SalesAmount                    float64\n",
              "TaxAmt                         float64\n",
              "Year                             int64\n",
              "Quarter                         object\n",
              "Month                           object\n",
              "FiscalYear                      object\n",
              "FiscalQuarter                   object\n",
              "Weekday                         object\n",
              "WeekdayWeekend                  object\n",
              "MaritalStatus                   object\n",
              "Gender                          object\n",
              "YearlyIncome                     int64\n",
              "Education                       object\n",
              "Occupation                      object\n",
              "HouseOwnerFlag                   int64\n",
              "ProductName                     object\n",
              "SubCategory                     object\n",
              "Region                          object\n",
              "Country                         object\n",
              "Group                           object\n",
              "dtype: object"
            ]
          },
          "metadata": {},
          "execution_count": 7
        }
      ]
    },
    {
      "cell_type": "code",
      "execution_count": null,
      "metadata": {
        "id": "-v7rSqGS2h9_",
        "colab": {
          "base_uri": "https://localhost:8080/"
        },
        "outputId": "d33e8150-1a62-4169-8ea8-87bd8a871732"
      },
      "outputs": [
        {
          "output_type": "execute_result",
          "data": {
            "text/plain": [
              "ProductKey              0\n",
              "FiscalYear              0\n",
              "Country                 0\n",
              "Region                  0\n",
              "SubCategory             0\n",
              "ProductName             0\n",
              "HouseOwnerFlag          0\n",
              "Occupation              0\n",
              "Education               0\n",
              "YearlyIncome            0\n",
              "Gender                  0\n",
              "MaritalStatus           0\n",
              "WeekdayWeekend          0\n",
              "Weekday                 0\n",
              "FiscalQuarter           0\n",
              "Month                   0\n",
              "OrderDate               0\n",
              "Quarter                 0\n",
              "Year                    0\n",
              "TaxAmt                  0\n",
              "SalesAmount             0\n",
              "TotalProductCost        0\n",
              "UnitPrice               0\n",
              "OrderQuantity           0\n",
              "SalesOrderLineNumber    0\n",
              "SalesOrderNumber        0\n",
              "SalesTerritoryKey       0\n",
              "PromotionKey            0\n",
              "CustomerKey             0\n",
              "ShipDate                0\n",
              "Group                   0\n",
              "dtype: int64"
            ]
          },
          "metadata": {},
          "execution_count": 8
        }
      ],
      "source": [
        "# Count of Null Values\n",
        "\n",
        "df.isnull().sum().sort_values(ascending = False)\n",
        "# sns.heatmap(df.isnull(),yticklabels= False,cbar = False,cmap = \"viridis\")"
      ]
    },
    {
      "cell_type": "markdown",
      "source": [
        "Dataset don't have any null value present. So we are good to go for further stage."
      ],
      "metadata": {
        "id": "jkHiV7PAj4Ri"
      }
    },
    {
      "cell_type": "code",
      "execution_count": null,
      "metadata": {
        "id": "6ChrlJru2iJZ"
      },
      "outputs": [],
      "source": [
        "df[\"Leadtime\"] = df[\"ShipDate\"] - df[\"OrderDate\"]\n",
        "df[\"Profit\"] = df[\"SalesAmount\"] - df[\"TotalProductCost\"]"
      ]
    },
    {
      "cell_type": "markdown",
      "source": [
        "**EXPLORATORY DATA ANALYSIS USING VARIOUS CHARTS AND GRAPHS**"
      ],
      "metadata": {
        "id": "gSPKlwhCjv7E"
      }
    },
    {
      "cell_type": "markdown",
      "source": [
        "***Total Amount of sales for the year 2014,15,16 based on Gender***"
      ],
      "metadata": {
        "id": "HybcsQ9EWflT"
      }
    },
    {
      "cell_type": "code",
      "execution_count": null,
      "metadata": {
        "id": "UWvGAa4D2isL",
        "colab": {
          "base_uri": "https://localhost:8080/",
          "height": 352
        },
        "outputId": "579fa398-2945-4bb6-8300-8f505137b572"
      },
      "outputs": [
        {
          "output_type": "execute_result",
          "data": {
            "text/plain": [
              "Gender\n",
              "M    13439\n",
              "F    13244\n",
              "Name: SalesOrderNumber, dtype: int64"
            ]
          },
          "metadata": {},
          "execution_count": 10
        },
        {
          "output_type": "display_data",
          "data": {
            "text/plain": [
              "<Figure size 432x288 with 1 Axes>"
            ],
            "image/png": "[encoded data removed]"
          },
          "metadata": {
            "needs_background": "light"
          }
        }
      ],
      "source": [
        "sns.barplot(x = 'Gender', y = 'SalesAmount',data = df)\n",
        "df.groupby('Gender')['SalesOrderNumber'].nunique().sort_values(ascending = False)"
      ]
    },
    {
      "cell_type": "markdown",
      "source": [
        "**Observation** - \n",
        "\n",
        "Both Male and Females have placed almost equal number of order and therefore sales amount is also same."
      ],
      "metadata": {
        "id": "5GoJARwrl9KI"
      }
    },
    {
      "cell_type": "markdown",
      "source": [
        "***Total Sales per year ***"
      ],
      "metadata": {
        "id": "cGgCsZbTWKZa"
      }
    },
    {
      "cell_type": "code",
      "execution_count": null,
      "metadata": {
        "id": "wqxM1z422jAM",
        "colab": {
          "base_uri": "https://localhost:8080/",
          "height": 653
        },
        "outputId": "6d6e5bc9-7248-4876-fd64-3e79b212f954"
      },
      "outputs": [
        {
          "output_type": "execute_result",
          "data": {
            "text/plain": [
              "Year\n",
              "2016    21255\n",
              "2015     3222\n",
              "2014     2206\n",
              "Name: SalesOrderNumber, dtype: int64"
            ]
          },
          "metadata": {},
          "execution_count": 11
        },
        {
          "output_type": "display_data",
          "data": {
            "text/plain": [
              "<Figure size 936x648 with 1 Axes>"
            ],
            "image/png": "[encoded data removed]"
          },
          "metadata": {
            "needs_background": "light"
          }
        }
      ],
      "source": [
        "a = df.groupby(['Year',\"SubCategory\"])['SalesAmount'].sum().reset_index()\n",
        "plt.figure(figsize = (13,9))\n",
        "sns.barplot(x = \"Year\",y=\"SalesAmount\",hue = \"SubCategory\",data = a)\n",
        "df.groupby('Year')['SalesOrderNumber'].nunique().sort_values(ascending = False)"
      ]
    },
    {
      "cell_type": "markdown",
      "source": [
        "**Observations** - \n",
        "\n",
        "It is clear that as number of unique orders being higher for 2016 as compared to 2015 and 2014, total sales amount is the highest for the year 2016 follwed by 2014 and 2015 resp\n",
        "\n",
        "Increase in the category portfolio has resulted an increase in sales for the year 2016."
      ],
      "metadata": {
        "id": "yHLWxuJ16KxG"
      }
    },
    {
      "cell_type": "markdown",
      "source": [
        "***Avg Order Value basis Region***"
      ],
      "metadata": {
        "id": "zaSZTVGOWuYS"
      }
    },
    {
      "cell_type": "code",
      "source": [
        "avg_Order = df.groupby(['Country','Region'])['SalesAmount'].sum().reset_index()\n",
        "avg_Order1 = df.groupby(['Country','Region'])['SalesOrderNumber'].nunique().reset_index()\n",
        "avg_Order_df = pd.merge(avg_Order,avg_Order1[[\"Region\",\"SalesOrderNumber\"]],on = \"Region\",how = \"left\")\n",
        "avg_Order_df[\"Avg_order_value\"] = round(avg_Order_df[\"SalesAmount\"] / avg_Order_df[\"SalesOrderNumber\"],2)\n",
        "plt.figure(figsize=(12,5))\n",
        "sns.barplot(x = \"Region\",y = \"Avg_order_value\",data = avg_Order_df)\n",
        "avg_Order_df[[\"Country\",\"Region\",\"Avg_order_value\"]].style.set_table_styles([{'selector': 'th', 'props': [('font-size', '10pt'),('border-style','solid'),('border-width','1px')]}])\n"
      ],
      "metadata": {
        "colab": {
          "base_uri": "https://localhost:8080/",
          "height": 680
        },
        "id": "oJ-uahH56EGQ",
        "outputId": "9f7bed59-dcca-4b14-fd81-5d55d47a8334"
      },
      "execution_count": null,
      "outputs": [
        {
          "output_type": "execute_result",
          "data": {
            "text/plain": [
              "<pandas.io.formats.style.Styler at 0x7f366731a5d0>"
            ],
            "text/html": [
              "<style type=\"text/css\">\n",
              "#T_830fe_ th {\n",
              "  font-size: 10pt;\n",
              "  border-style: solid;\n",
              "  border-width: 1px;\n",
              "}\n",
              "</style>\n",
              "<table id=\"T_830fe_\" class=\"dataframe\">\n",
              "  <thead>\n",
              "    <tr>\n",
              "      <th class=\"blank level0\" >&nbsp;</th>\n",
              "      <th class=\"col_heading level0 col0\" >Country</th>\n",
              "      <th class=\"col_heading level0 col1\" >Region</th>\n",
              "      <th class=\"col_heading level0 col2\" >Avg_order_value</th>\n",
              "    </tr>\n",
              "  </thead>\n",
              "  <tbody>\n",
              "    <tr>\n",
              "      <th id=\"T_830fe_level0_row0\" class=\"row_heading level0 row0\" >0</th>\n",
              "      <td id=\"T_830fe_row0_col0\" class=\"data row0 col0\" >Australia</td>\n",
              "      <td id=\"T_830fe_row0_col1\" class=\"data row0 col1\" >Australia</td>\n",
              "      <td id=\"T_830fe_row0_col2\" class=\"data row0 col2\" >1383.640000</td>\n",
              "    </tr>\n",
              "    <tr>\n",
              "      <th id=\"T_830fe_level0_row1\" class=\"row_heading level0 row1\" >1</th>\n",
              "      <td id=\"T_830fe_row1_col0\" class=\"data row1 col0\" >Canada</td>\n",
              "      <td id=\"T_830fe_row1_col1\" class=\"data row1 col1\" >Canada</td>\n",
              "      <td id=\"T_830fe_row1_col2\" class=\"data row1 col2\" >620.500000</td>\n",
              "    </tr>\n",
              "    <tr>\n",
              "      <th id=\"T_830fe_level0_row2\" class=\"row_heading level0 row2\" >2</th>\n",
              "      <td id=\"T_830fe_row2_col0\" class=\"data row2 col0\" >France</td>\n",
              "      <td id=\"T_830fe_row2_col1\" class=\"data row2 col1\" >France</td>\n",
              "      <td id=\"T_830fe_row2_col2\" class=\"data row2 col2\" >1095.200000</td>\n",
              "    </tr>\n",
              "    <tr>\n",
              "      <th id=\"T_830fe_level0_row3\" class=\"row_heading level0 row3\" >3</th>\n",
              "      <td id=\"T_830fe_row3_col0\" class=\"data row3 col0\" >Germany</td>\n",
              "      <td id=\"T_830fe_row3_col1\" class=\"data row3 col1\" >Germany</td>\n",
              "      <td id=\"T_830fe_row3_col2\" class=\"data row3 col2\" >1198.470000</td>\n",
              "    </tr>\n",
              "    <tr>\n",
              "      <th id=\"T_830fe_level0_row4\" class=\"row_heading level0 row4\" >4</th>\n",
              "      <td id=\"T_830fe_row4_col0\" class=\"data row4 col0\" >United Kingdom</td>\n",
              "      <td id=\"T_830fe_row4_col1\" class=\"data row4 col1\" >United Kingdom</td>\n",
              "      <td id=\"T_830fe_row4_col2\" class=\"data row4 col2\" >1149.470000</td>\n",
              "    </tr>\n",
              "    <tr>\n",
              "      <th id=\"T_830fe_level0_row5\" class=\"row_heading level0 row5\" >5</th>\n",
              "      <td id=\"T_830fe_row5_col0\" class=\"data row5 col0\" >United States</td>\n",
              "      <td id=\"T_830fe_row5_col1\" class=\"data row5 col1\" >Central</td>\n",
              "      <td id=\"T_830fe_row5_col2\" class=\"data row5 col2\" >333.430000</td>\n",
              "    </tr>\n",
              "    <tr>\n",
              "      <th id=\"T_830fe_level0_row6\" class=\"row_heading level0 row6\" >6</th>\n",
              "      <td id=\"T_830fe_row6_col0\" class=\"data row6 col0\" >United States</td>\n",
              "      <td id=\"T_830fe_row6_col1\" class=\"data row6 col1\" >Northeast</td>\n",
              "      <td id=\"T_830fe_row6_col2\" class=\"data row6 col2\" >653.250000</td>\n",
              "    </tr>\n",
              "    <tr>\n",
              "      <th id=\"T_830fe_level0_row7\" class=\"row_heading level0 row7\" >7</th>\n",
              "      <td id=\"T_830fe_row7_col0\" class=\"data row7 col0\" >United States</td>\n",
              "      <td id=\"T_830fe_row7_col1\" class=\"data row7 col1\" >Northwest</td>\n",
              "      <td id=\"T_830fe_row7_col2\" class=\"data row7 col2\" >938.310000</td>\n",
              "    </tr>\n",
              "    <tr>\n",
              "      <th id=\"T_830fe_level0_row8\" class=\"row_heading level0 row8\" >8</th>\n",
              "      <td id=\"T_830fe_row8_col0\" class=\"data row8 col0\" >United States</td>\n",
              "      <td id=\"T_830fe_row8_col1\" class=\"data row8 col1\" >Southeast</td>\n",
              "      <td id=\"T_830fe_row8_col2\" class=\"data row8 col2\" >866.060000</td>\n",
              "    </tr>\n",
              "    <tr>\n",
              "      <th id=\"T_830fe_level0_row9\" class=\"row_heading level0 row9\" >9</th>\n",
              "      <td id=\"T_830fe_row9_col0\" class=\"data row9 col0\" >United States</td>\n",
              "      <td id=\"T_830fe_row9_col1\" class=\"data row9 col1\" >Southwest</td>\n",
              "      <td id=\"T_830fe_row9_col2\" class=\"data row9 col2\" >1079.410000</td>\n",
              "    </tr>\n",
              "  </tbody>\n",
              "</table>\n"
            ]
          },
          "metadata": {},
          "execution_count": 12
        },
        {
          "output_type": "display_data",
          "data": {
            "text/plain": [
              "<Figure size 864x360 with 1 Axes>"
            ],
            "image/png": "[encoded data removed]"
          },
          "metadata": {
            "needs_background": "light"
          }
        }
      ]
    },
    {
      "cell_type": "markdown",
      "source": [
        "**Observation** -\n",
        "\n",
        "Avg Order value in Austrailia and Europian countries is higher than North American countries  "
      ],
      "metadata": {
        "id": "lvNBLA6ET777"
      }
    },
    {
      "cell_type": "markdown",
      "source": [
        "***Profit per region***"
      ],
      "metadata": {
        "id": "_O9nAbBcg6qn"
      }
    },
    {
      "cell_type": "code",
      "source": [
        "plt.figure(figsize = (7,4))\n",
        "df.groupby([\"Country\"])[\"Profit\"].sum().sort_values(ascending =False).plot(kind = \"bar\",color = \"orange\")"
      ],
      "metadata": {
        "colab": {
          "base_uri": "https://localhost:8080/",
          "height": 379
        },
        "id": "tn_S-gYcgeIt",
        "outputId": "8bb9bfd8-a6cc-4e15-8fe0-94b9b963f05e"
      },
      "execution_count": null,
      "outputs": [
        {
          "output_type": "execute_result",
          "data": {
            "text/plain": [
              "<matplotlib.axes._subplots.AxesSubplot at 0x7f3668352b10>"
            ]
          },
          "metadata": {},
          "execution_count": 13
        },
        {
          "output_type": "display_data",
          "data": {
            "text/plain": [
              "<Figure size 504x288 with 1 Axes>"
            ],
            "image/png": "[encoded data removed]"
          },
          "metadata": {
            "needs_background": "light"
          }
        }
      ]
    },
    {
      "cell_type": "markdown",
      "source": [
        "**Observation** -\n",
        "\n",
        "Company has earned most of its profit from US and Austrailia"
      ],
      "metadata": {
        "id": "HpHSTl3rhCBe"
      }
    },
    {
      "cell_type": "markdown",
      "source": [
        "***Data for Top 10 product by sales per year***"
      ],
      "metadata": {
        "id": "Z6ZKLCXMxdf3"
      }
    },
    {
      "cell_type": "code",
      "source": [
        "b = [2014,2015,2016]\n",
        "for years in b:  \n",
        "    a = df.loc[df[\"Year\"] == years]\n",
        "    print(a.groupby([\"Year\",\"ProductName\"])[\"SalesAmount\"].sum().sort_values(ascending = False)[:10])"
      ],
      "metadata": {
        "id": "7B3RftF-6EwT",
        "colab": {
          "base_uri": "https://localhost:8080/"
        },
        "outputId": "f14850a4-a5ad-4397-abc2-58c858442f11"
      },
      "execution_count": null,
      "outputs": [
        {
          "output_type": "stream",
          "name": "stdout",
          "text": [
            "Year  ProductName            \n",
            "2014  Road-150 Red, 48           1205876.99\n",
            "      Road-150 Red, 62           1202298.72\n",
            "      Road-150 Red, 52           1080637.54\n",
            "      Road-150 Red, 56           1055589.65\n",
            "      Road-150 Red, 44           1005493.87\n",
            "      Mountain-100 Black, 44      202499.40\n",
            "      Mountain-100 Silver, 38     197199.42\n",
            "      Mountain-100 Black, 48      192374.43\n",
            "      Mountain-100 Silver, 44     166599.51\n",
            "      Mountain-100 Black, 38      165374.51\n",
            "Name: SalesAmount, dtype: float64\n",
            "Year  ProductName            \n",
            "2015  Mountain-200 Black, 46     411868.7382\n",
            "      Road-250 Red, 48           395822.7000\n",
            "      Mountain-200 Black, 42     383181.3634\n",
            "      Road-250 Red, 58           375228.7500\n",
            "      Road-250 Black, 52         375228.7500\n",
            "      Mountain-200 Silver, 46    370784.1084\n",
            "      Mountain-200 Silver, 38    360427.0104\n",
            "      Road-250 Red, 44           351842.4000\n",
            "      Mountain-200 Silver, 42    347998.4928\n",
            "      Mountain-200 Black, 38     340150.3012\n",
            "Name: SalesAmount, dtype: float64\n",
            "Year  ProductName            \n",
            "2016  Mountain-200 Black, 42     979960.73\n",
            "      Mountain-200 Silver, 38    979035.78\n",
            "      Mountain-200 Black, 46     961600.81\n",
            "      Mountain-200 Black, 38     954715.84\n",
            "      Mountain-200 Silver, 46    930315.99\n",
            "      Mountain-200 Silver, 42    909436.08\n",
            "      Touring-1000 Blue, 46      421980.39\n",
            "      Road-350-W Yellow, 40      418443.54\n",
            "      Touring-1000 Yellow, 46    410060.04\n",
            "      Road-350-W Yellow, 42      399732.65\n",
            "Name: SalesAmount, dtype: float64\n"
          ]
        }
      ]
    },
    {
      "cell_type": "markdown",
      "source": [
        "**Observation** -\n",
        "\n",
        "Clearly Mountain Bikes,Road Bikes and touring bikes are the most sold product in each year   "
      ],
      "metadata": {
        "id": "NSvE2mnzxs12"
      }
    },
    {
      "cell_type": "markdown",
      "source": [
        "***Category based sales data***"
      ],
      "metadata": {
        "id": "Jj4bhjjUzl3k"
      }
    },
    {
      "cell_type": "code",
      "source": [
        "b = [2014,2015,2016]\n",
        "for years in b:  \n",
        "    a = df.loc[df[\"Year\"] == years]\n",
        "    print(a.groupby([\"Year\",\"SubCategory\"])[\"SalesAmount\"].sum().sort_values(ascending = False))"
      ],
      "metadata": {
        "id": "FW6Tmyhe6EzY",
        "colab": {
          "base_uri": "https://localhost:8080/"
        },
        "outputId": "48cdfb3f-c58c-4992-f256-325c4393f882"
      },
      "execution_count": null,
      "outputs": [
        {
          "output_type": "stream",
          "name": "stdout",
          "text": [
            "Year  SubCategory   \n",
            "2014  Road Bikes        5.730963e+06\n",
            "      Mountain Bikes    1.341121e+06\n",
            "Name: SalesAmount, dtype: float64\n",
            "Year  SubCategory   \n",
            "2015  Road Bikes        3.547724e+06\n",
            "      Mountain Bikes    2.214410e+06\n",
            "Name: SalesAmount, dtype: float64\n",
            "Year  SubCategory      \n",
            "2016  Mountain Bikes       6397228.51\n",
            "      Road Bikes           5241896.55\n",
            "      Touring Bikes        3844801.05\n",
            "      Tires and Tubes       231299.76\n",
            "      Helmets               215923.29\n",
            "      Jerseys               165066.21\n",
            "      Shorts                 67050.42\n",
            "      Bottles and Cages      55030.81\n",
            "      Fenders                44267.72\n",
            "      Hydration Packs        38822.94\n",
            "      Bike Stands            37842.00\n",
            "      Bike Racks             36960.00\n",
            "      Vests                  33464.50\n",
            "      Gloves                 33379.87\n",
            "      Caps                   18834.05\n",
            "      Cleaners                6868.80\n",
            "      Socks                   4881.57\n",
            "Name: SalesAmount, dtype: float64\n"
          ]
        }
      ]
    },
    {
      "cell_type": "markdown",
      "source": [
        "**Observation** -\n",
        "\n",
        "Category portfolia expantion took place in the year 2016 before which sales was purely based on very limited number of category. "
      ],
      "metadata": {
        "id": "Yc_32G-vzzl6"
      }
    },
    {
      "cell_type": "markdown",
      "source": [
        "***Sales analysis based on weekend and weekday***"
      ],
      "metadata": {
        "id": "tVxzxCMsNAdu"
      }
    },
    {
      "cell_type": "code",
      "source": [
        "a1 = df.groupby(['Month',\"WeekdayWeekend\"])['SalesAmount'].sum().sort_values(ascending = False).reset_index()\n",
        "plt.figure(figsize = (9,5))\n",
        "sns.barplot(x = \"Month\",y=\"SalesAmount\",hue = \"WeekdayWeekend\",data = a1)"
      ],
      "metadata": {
        "colab": {
          "base_uri": "https://localhost:8080/",
          "height": 363
        },
        "id": "wgOvRCx7n_V-",
        "outputId": "23458611-e076-44e0-ee31-6ccea2833c40"
      },
      "execution_count": null,
      "outputs": [
        {
          "output_type": "execute_result",
          "data": {
            "text/plain": [
              "<matplotlib.axes._subplots.AxesSubplot at 0x7f36674bb950>"
            ]
          },
          "metadata": {},
          "execution_count": 29
        },
        {
          "output_type": "display_data",
          "data": {
            "text/plain": [
              "<Figure size 648x360 with 1 Axes>"
            ],
            "image/png": "[encoded data removed]"
          },
          "metadata": {
            "needs_background": "light"
          }
        }
      ]
    },
    {
      "cell_type": "markdown",
      "source": [
        "**Observation** -\n",
        "\n",
        "Sales are more on weekday as compared to week-end.\n",
        "Sales in Dec month is the highest compared to all other months."
      ],
      "metadata": {
        "id": "KoPdeCG-NIxr"
      }
    },
    {
      "cell_type": "markdown",
      "source": [
        "***Promotions data analysis***"
      ],
      "metadata": {
        "id": "6cSg3QBYR69p"
      }
    },
    {
      "cell_type": "code",
      "source": [
        "plt.figure(figsize = (9,5))\n",
        "df.groupby([\"Month\",\"PromotionKey\"])[\"PromotionKey\"].count().sort_values(ascending =False).plot()"
      ],
      "metadata": {
        "id": "C70CJ1PV6E6M",
        "colab": {
          "base_uri": "https://localhost:8080/",
          "height": 352
        },
        "outputId": "ce8e2534-1e6d-4554-9839-214b889d3922"
      },
      "execution_count": null,
      "outputs": [
        {
          "output_type": "execute_result",
          "data": {
            "text/plain": [
              "<matplotlib.axes._subplots.AxesSubplot at 0x7f366837ec90>"
            ]
          },
          "metadata": {},
          "execution_count": 17
        },
        {
          "output_type": "display_data",
          "data": {
            "text/plain": [
              "<Figure size 648x360 with 1 Axes>"
            ],
            "image/png": "[encoded data removed]"
          },
          "metadata": {
            "needs_background": "light"
          }
        }
      ]
    },
    {
      "cell_type": "markdown",
      "source": [
        "**Observation** -\n",
        "\n",
        "Most of the offers on all the products are by the year end"
      ],
      "metadata": {
        "id": "Xrh6yVIxSOdu"
      }
    },
    {
      "cell_type": "markdown",
      "source": [
        "***Sales based on yearly income***"
      ],
      "metadata": {
        "id": "nf3lZW5YVAKt"
      }
    },
    {
      "cell_type": "code",
      "source": [
        "plt.figure(figsize = (11,5))\n",
        "df.groupby(\"YearlyIncome\")[\"SalesAmount\"].sum().plot(kind = \"bar\",color = \"orange\")"
      ],
      "metadata": {
        "colab": {
          "base_uri": "https://localhost:8080/",
          "height": 390
        },
        "id": "CgFvnzQMS_Sb",
        "outputId": "558e916d-b479-4708-f823-b27fb3f64b66"
      },
      "execution_count": null,
      "outputs": [
        {
          "output_type": "execute_result",
          "data": {
            "text/plain": [
              "<matplotlib.axes._subplots.AxesSubplot at 0x7f3667801550>"
            ]
          },
          "metadata": {},
          "execution_count": 18
        },
        {
          "output_type": "display_data",
          "data": {
            "text/plain": [
              "<Figure size 792x360 with 1 Axes>"
            ],
            "image/png": "[encoded data removed]"
          },
          "metadata": {
            "needs_background": "light"
          }
        }
      ]
    },
    {
      "cell_type": "markdown",
      "source": [
        "**Observation** -\n",
        "\n",
        "Looks like People from the middle class income bracket are more intereseted in Riding cycles."
      ],
      "metadata": {
        "id": "uCw347oAVUlk"
      }
    },
    {
      "cell_type": "markdown",
      "source": [
        "***Sales analysis based on home owner status***"
      ],
      "metadata": {
        "id": "88_HmMvSZQhP"
      }
    },
    {
      "cell_type": "code",
      "source": [
        "df.groupby(\"HouseOwnerFlag\")[\"SalesAmount\"].sum().plot(kind = \"bar\",color = \"cyan\")"
      ],
      "metadata": {
        "colab": {
          "base_uri": "https://localhost:8080/",
          "height": 305
        },
        "id": "sb9f4bkMS_0m",
        "outputId": "43548441-f2e9-4928-f112-fefe078194c4"
      },
      "execution_count": null,
      "outputs": [
        {
          "output_type": "execute_result",
          "data": {
            "text/plain": [
              "<matplotlib.axes._subplots.AxesSubplot at 0x7f36678bf910>"
            ]
          },
          "metadata": {},
          "execution_count": 19
        },
        {
          "output_type": "display_data",
          "data": {
            "text/plain": [
              "<Figure size 432x288 with 1 Axes>"
            ],
            "image/png": "[encoded data removed]"
          },
          "metadata": {
            "needs_background": "light"
          }
        }
      ]
    },
    {
      "cell_type": "markdown",
      "source": [
        "**Observation** -\n",
        "\n",
        "Clearly majority of the buyer are homeowners "
      ],
      "metadata": {
        "id": "y5lz8R-aZRNQ"
      }
    },
    {
      "cell_type": "markdown",
      "source": [
        "***Sales analysis based on Occupation and Marital Status***"
      ],
      "metadata": {
        "id": "W9o7njlQa8_G"
      }
    },
    {
      "cell_type": "code",
      "source": [
        "plt.figure(figsize = (11,5))\n",
        "sns.barplot(x = \"Occupation\",y = \"SalesAmount\",hue = \"MaritalStatus\",data = df)"
      ],
      "metadata": {
        "colab": {
          "base_uri": "https://localhost:8080/",
          "height": 352
        },
        "id": "Dm9j1C-HZt4d",
        "outputId": "5633d927-bc38-4b16-894d-4bda1dde2c00"
      },
      "execution_count": null,
      "outputs": [
        {
          "output_type": "execute_result",
          "data": {
            "text/plain": [
              "<matplotlib.axes._subplots.AxesSubplot at 0x7f3666053290>"
            ]
          },
          "metadata": {},
          "execution_count": 20
        },
        {
          "output_type": "display_data",
          "data": {
            "text/plain": [
              "<Figure size 792x360 with 1 Axes>"
            ],
            "image/png": "[encoded data removed]"
          },
          "metadata": {
            "needs_background": "light"
          }
        }
      ]
    },
    {
      "cell_type": "markdown",
      "source": [
        "**Observation** -\n",
        "\n",
        "Singles have surpassed married in sales.\n",
        "\n",
        "Moreover people in Management and Professional Occupation are the top buyers."
      ],
      "metadata": {
        "id": "gNtVrQDDa9e3"
      }
    },
    {
      "cell_type": "markdown",
      "source": [
        "***Top 10 products bought by male and females***"
      ],
      "metadata": {
        "id": "r7A3x5IOfSdQ"
      }
    },
    {
      "cell_type": "code",
      "source": [
        "b = [\"M\",\"F\"]\n",
        "for Gender in b:  \n",
        "    a = df.loc[df[\"Gender\"] == Gender]\n",
        "    print(a.groupby([\"Gender\",\"ProductName\"])[\"SalesAmount\"].sum().sort_values(ascending = False)[:10])"
      ],
      "metadata": {
        "colab": {
          "base_uri": "https://localhost:8080/"
        },
        "id": "ruTxr3shZveg",
        "outputId": "5cff55b2-ffad-42b0-cd77-56e09ecfac53"
      },
      "execution_count": null,
      "outputs": [
        {
          "output_type": "stream",
          "name": "stdout",
          "text": [
            "Gender  ProductName            \n",
            "M       Mountain-200 Black, 38     694644.2934\n",
            "        Mountain-200 Silver, 38    672548.5260\n",
            "        Mountain-200 Black, 46     659317.8400\n",
            "        Mountain-200 Black, 42     649810.0244\n",
            "        Road-150 Red, 48           644088.6000\n",
            "        Mountain-200 Silver, 46    627143.0076\n",
            "        Road-150 Red, 62           608305.9000\n",
            "        Mountain-200 Silver, 42    586874.6100\n",
            "        Road-150 Red, 52           543897.0400\n",
            "        Road-150 Red, 56           493801.2600\n",
            "Name: SalesAmount, dtype: float64\n",
            "Gender  ProductName            \n",
            "F       Mountain-200 Black, 46     714151.7082\n",
            "        Mountain-200 Black, 42     713332.0690\n",
            "        Mountain-200 Silver, 46    673957.0908\n",
            "        Mountain-200 Silver, 42    670559.9628\n",
            "        Mountain-200 Silver, 38    666914.2644\n",
            "        Mountain-200 Black, 38     600221.8478\n",
            "        Road-150 Red, 62           593992.8200\n",
            "        Road-150 Red, 48           561788.3900\n",
            "        Road-150 Red, 56           561788.3900\n",
            "        Road-150 Red, 52           536740.5000\n",
            "Name: SalesAmount, dtype: float64\n"
          ]
        }
      ]
    },
    {
      "cell_type": "markdown",
      "source": [
        "**Observation** -\n",
        "\n",
        "Both male and female's have similar choice when it comes to bike selection"
      ],
      "metadata": {
        "id": "qn0NqEg1fZJl"
      }
    },
    {
      "cell_type": "code",
      "source": [
        "# Using the below file to plot the graph of budget and Sales broken down to Subcategory.\n",
        "a = df.loc[df[\"Year\"] == 2016]\n",
        "a.groupby([\"Year\",\"SubCategory\",\"Month\"])[\"SalesAmount\"].sum().sort_values(ascending = False).reset_index().to_csv(\"CategorySalesdata.csv\")"
      ],
      "metadata": {
        "id": "1qYLqyHOR7Sv"
      },
      "execution_count": null,
      "outputs": []
    }
  ],
  "metadata": {
    "colab": {
      "name": "Budget Sales Analysis.ipynb",
      "provenance": [],
      "collapsed_sections": []
    },
    "kernelspec": {
      "display_name": "Python 3",
      "name": "python3"
    },
    "language_info": {
      "name": "python"
    }
  },
  "nbformat": 4,
  "nbformat_minor": 0
}